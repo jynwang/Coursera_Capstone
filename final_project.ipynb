{
 "cells": [
  {
   "attachments": {},
   "cell_type": "markdown",
   "metadata": {},
   "source": [
    "# Where to open another chain of your restaurant in Toronto\n",
    "## Introduction/Business Problem\n",
    "When you are a successful entrepreneur in a city, say in this case Toronto, owning a well running restaurant, you could naturally think about opening another chain store. Through clustering, the entrepreneur can find similar spots that might replicate the success of the existing business.\n",
    "## Data Section\n",
    "I will continue working on the data presented in previous weeks:  \n",
    "1. Borough and neighborhood data scraping from: https://en.wikipedia.org/wiki/List_of_postal_codes_of_Canada:_M. This gives a basic idea of different neighborhood\n",
    "2. Latitude and longitude provided in the file “Geospatial_Coordinates.csv”. This tells us the latitude and longitude information of the neighborhood\n",
    "3. Using Foursquare to acquire business information, so that neighborhood with similar business type could be clustered together. "
   ]
  },
  {
   "cell_type": "code",
   "execution_count": null,
   "metadata": {},
   "outputs": [],
   "source": []
  }
 ],
 "metadata": {
  "kernelspec": {
   "display_name": "Python 3",
   "language": "python",
   "name": "python3"
  },
  "language_info": {
   "codemirror_mode": {
    "name": "ipython",
    "version": 3
   },
   "file_extension": ".py",
   "mimetype": "text/x-python",
   "name": "python",
   "nbconvert_exporter": "python",
   "pygments_lexer": "ipython3",
   "version": "3.7.3"
  }
 },
 "nbformat": 4,
 "nbformat_minor": 2
}
